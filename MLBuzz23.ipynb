{
  "nbformat": 4,
  "nbformat_minor": 0,
  "metadata": {
    "colab": {
      "provenance": [],
      "include_colab_link": true
    },
    "kernelspec": {
      "name": "python3",
      "display_name": "Python 3"
    },
    "language_info": {
      "name": "python"
    }
  },
  "cells": [
    {
      "cell_type": "markdown",
      "metadata": {
        "id": "view-in-github",
        "colab_type": "text"
      },
      "source": [
        "<a href=\"https://colab.research.google.com/github/sayandeepsanyal/cowin-vaccination-slot-availability/blob/main/MLBuzz23.ipynb\" target=\"_parent\"><img src=\"https://colab.research.google.com/assets/colab-badge.svg\" alt=\"Open In Colab\"/></a>"
      ]
    },
    {
      "cell_type": "code",
      "source": [
        "# All imports\n",
        "import pandas as pd\n",
        "import numpy as np\n",
        "from datetime import datetime\n"
      ],
      "metadata": {
        "id": "9jaefTymp7X4"
      },
      "execution_count": 1,
      "outputs": []
    },
    {
      "cell_type": "code",
      "source": [
        "# Format string to python datetime object\n",
        "def get_formated_time (date_str):\n",
        "\n",
        "  format_data = \"%m/%d/%Y %I:%M %p\"\n",
        "  formated_time = datetime.strptime(train_data[0][1], format_data)\n",
        "\n",
        "  # print(formated_time.day)\n",
        "  # print(formated_time.month)\n",
        "  # print(formated_time.year)\n",
        "  # print(formated_time.hour)\n",
        "  # print(formated_time.minute)\n",
        "  return formated_time"
      ],
      "metadata": {
        "id": "smPKvIauobkF"
      },
      "execution_count": 2,
      "outputs": []
    },
    {
      "cell_type": "code",
      "source": [
        "# train_data\n",
        "df = pd.read_csv('dataset/train.csv')\n",
        "train_data = df.values\n",
        "\n",
        "# test_data\n",
        "df = pd.read_csv('dataset/test.csv')\n",
        "test_data = df.values\n"
      ],
      "metadata": {
        "id": "V277rW2mki4H"
      },
      "execution_count": 3,
      "outputs": []
    },
    {
      "cell_type": "code",
      "source": [
        "print(train_data[0][1])\n",
        "print(\"Formated date : \", get_formated_time(train_data[0][1]))\n"
      ],
      "metadata": {
        "id": "G5lf5vHEmfp_",
        "colab": {
          "base_uri": "https://localhost:8080/"
        },
        "outputId": "f437a88e-b1fa-4ac1-dec1-9b52733fb983"
      },
      "execution_count": 4,
      "outputs": [
        {
          "output_type": "stream",
          "name": "stdout",
          "text": [
            "09/22/2012 05:57 AM\n",
            "Formated date :  2012-09-22 05:57:00\n"
          ]
        }
      ]
    },
    {
      "cell_type": "code",
      "source": [],
      "metadata": {
        "id": "-Ssvqzzzlfwg"
      },
      "execution_count": null,
      "outputs": []
    },
    {
      "cell_type": "code",
      "source": [],
      "metadata": {
        "id": "Excf3Ge9gooH"
      },
      "execution_count": null,
      "outputs": []
    }
  ]
}